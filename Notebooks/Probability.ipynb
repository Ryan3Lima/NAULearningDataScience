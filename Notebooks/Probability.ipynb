{
 "cells": [
  {
   "cell_type": "markdown",
   "id": "26d6e95e",
   "metadata": {},
   "source": [
    "# Introduction to Probability\n",
    "\n",
    "Probability, is simply the numerical likelyhood "
   ]
  },
  {
   "cell_type": "markdown",
   "id": "7a013f07",
   "metadata": {},
   "source": [
    "## History of Probability\n",
    "\n",
    "### [Gerolamo Cardano](https://en.wikipedia.org/wiki/Gerolamo_Cardano)\n",
    "\n",
    "### [Blaise Pascal](https://en.wikipedia.org/wiki/Blaise_Pascal) and [Pierre de Fermat](https://en.wikipedia.org/wiki/Pierre_de_Fermat)\n",
    "\n",
    "### [Christiaan Huygens](https://en.wikipedia.org/wiki/Christiaan_Huygens)\n",
    "\n",
    "### [Jakob Bernoulli](https://en.wikipedia.org/wiki/Jacob_Bernoulli)\n",
    "\n",
    "### [Pierre-Simon Laplace ](https://en.wikipedia.org/wiki/Pierre-Simon_Laplace)\n"
   ]
  }
 ],
 "metadata": {
  "language_info": {
   "name": "python"
  }
 },
 "nbformat": 4,
 "nbformat_minor": 5
}
