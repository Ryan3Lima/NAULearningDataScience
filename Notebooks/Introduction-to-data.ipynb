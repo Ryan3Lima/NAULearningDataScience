{
 "cells": [
  {
   "cell_type": "markdown",
   "id": "82a9f99f",
   "metadata": {},
   "source": [
    "# What is data?\n",
    "\n",
    "Wikipedia defines data as \n",
    "\n",
    "*\"a collection of discrete or continous values that convey information, describing the quantity, quality, fact, statistics, other basic units of meaning, or simply sequences of symbols that may be futher intepreted formally\"*$_1$.\n",
    "    \n",
    "The term **data** entered English from Latin. The Latin verb *dare* means \"to give,\" and its neuter past participle *datum*--the singular form of data--literally means \"something given.\" Therefore, *data* are \"things given\" $_2$.\n",
    "\n",
    "Simply put, data are empirical observations or recorded measurements--facts about something--taken as given prior to interpretation or reasoning. In that sense, data are the building blocks of science: the shared foundation on which analysis and reasoning are constructed. Because they serve as *foundational* **givens**, we must be careful not to take data for granted. How data are collected, measured, and structured is immensely important, for these factors ultimately shape the validity and meaning of any conclusions drawn from them. \n",
    "\n"
   ]
  },
  {
   "cell_type": "markdown",
   "id": "81d2d2ec",
   "metadata": {},
   "source": [
    "# References\n",
    "\n",
    "$_1$ [Wikipedia - Data](https://en.wikipedia.org/wiki/Data)\n",
    "\n",
    "$_2$ [Online Etymological Dictionary - Data](https://www.etymonline.com/word/data)"
   ]
  }
 ],
 "metadata": {
  "language_info": {
   "name": "python"
  }
 },
 "nbformat": 4,
 "nbformat_minor": 5
}
